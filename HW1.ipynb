{
 "cells": [
  {
   "cell_type": "code",
   "execution_count": 1,
   "id": "92c9d563",
   "metadata": {},
   "outputs": [],
   "source": [
    "import json\n",
    "import csv\n",
    "import pandas as pd"
   ]
  },
  {
   "cell_type": "code",
   "execution_count": 2,
   "id": "576e3fa8",
   "metadata": {},
   "outputs": [],
   "source": [
    "json_file = open('hw-1-qbs.json')\n",
    "data = json.load(json_file)"
   ]
  },
  {
   "cell_type": "code",
   "execution_count": 3,
   "id": "9e37124c",
   "metadata": {},
   "outputs": [],
   "source": [
    "names = data['Quarterbacks']\n",
    "data_file = open('/Users/jonahberman/Desktop/TAMID/hw1_qbs.csv', 'w+')\n",
    "csv_writer = csv.writer(data_file)\n",
    "csv_writer.writerow(names[0].keys())\n",
    "for name in names:\n",
    "    csv_writer.writerow(name.values())\n",
    "data_file.close()"
   ]
  },
  {
   "cell_type": "code",
   "execution_count": 6,
   "id": "c4dd0bd5",
   "metadata": {},
   "outputs": [
    {
     "data": {
      "text/html": [
       "<div>\n",
       "<style scoped>\n",
       "    .dataframe tbody tr th:only-of-type {\n",
       "        vertical-align: middle;\n",
       "    }\n",
       "\n",
       "    .dataframe tbody tr th {\n",
       "        vertical-align: top;\n",
       "    }\n",
       "\n",
       "    .dataframe thead th {\n",
       "        text-align: right;\n",
       "    }\n",
       "</style>\n",
       "<table border=\"1\" class=\"dataframe\">\n",
       "  <thead>\n",
       "    <tr style=\"text-align: right;\">\n",
       "      <th></th>\n",
       "      <th>First Name</th>\n",
       "      <th>Last Name</th>\n",
       "      <th>Team</th>\n",
       "      <th>YDS</th>\n",
       "      <th>TD</th>\n",
       "      <th>CMP%</th>\n",
       "    </tr>\n",
       "  </thead>\n",
       "  <tbody>\n",
       "    <tr>\n",
       "      <th>0</th>\n",
       "      <td>Matthew</td>\n",
       "      <td>Stafford</td>\n",
       "      <td>LAR</td>\n",
       "      <td>2477</td>\n",
       "      <td>22</td>\n",
       "      <td>68.9</td>\n",
       "    </tr>\n",
       "    <tr>\n",
       "      <th>1</th>\n",
       "      <td>Tom</td>\n",
       "      <td>Brady</td>\n",
       "      <td>TB</td>\n",
       "      <td>2650</td>\n",
       "      <td>25</td>\n",
       "      <td>67.3</td>\n",
       "    </tr>\n",
       "    <tr>\n",
       "      <th>2</th>\n",
       "      <td>Patrick</td>\n",
       "      <td>Mahomes</td>\n",
       "      <td>KC</td>\n",
       "      <td>2368</td>\n",
       "      <td>19</td>\n",
       "      <td>66.5</td>\n",
       "    </tr>\n",
       "    <tr>\n",
       "      <th>3</th>\n",
       "      <td>Kyler</td>\n",
       "      <td>Murray</td>\n",
       "      <td>ARI</td>\n",
       "      <td>2276</td>\n",
       "      <td>17</td>\n",
       "      <td>72.7</td>\n",
       "    </tr>\n",
       "    <tr>\n",
       "      <th>4</th>\n",
       "      <td>Derek</td>\n",
       "      <td>Carr</td>\n",
       "      <td>LV</td>\n",
       "      <td>2269</td>\n",
       "      <td>12</td>\n",
       "      <td>67.7</td>\n",
       "    </tr>\n",
       "  </tbody>\n",
       "</table>\n",
       "</div>"
      ],
      "text/plain": [
       "  First Name Last Name Team   YDS  TD  CMP%\n",
       "0    Matthew  Stafford  LAR  2477  22  68.9\n",
       "1        Tom     Brady   TB  2650  25  67.3\n",
       "2    Patrick   Mahomes   KC  2368  19  66.5\n",
       "3      Kyler    Murray  ARI  2276  17  72.7\n",
       "4      Derek      Carr   LV  2269  12  67.7"
      ]
     },
     "execution_count": 6,
     "metadata": {},
     "output_type": "execute_result"
    }
   ],
   "source": [
    "qbs = pd.read_csv('/Users/jonahberman/Desktop/TAMID/hw1_qbs.csv')\n",
    "qbs = qbs[['First Name', 'Last Name', 'Team', 'YDS', 'TD', 'CMP%']]\n",
    "qbs"
   ]
  },
  {
   "cell_type": "code",
   "execution_count": 11,
   "id": "9d0660d6",
   "metadata": {},
   "outputs": [
    {
     "data": {
      "text/plain": [
       "[22, 25, 19, 17, 12]"
      ]
     },
     "execution_count": 11,
     "metadata": {},
     "output_type": "execute_result"
    }
   ],
   "source": [
    "tds = qbs['TD'].tolist()\n",
    "tds"
   ]
  }
 ],
 "metadata": {
  "kernelspec": {
   "display_name": "Python 3",
   "language": "python",
   "name": "python3"
  },
  "language_info": {
   "codemirror_mode": {
    "name": "ipython",
    "version": 3
   },
   "file_extension": ".py",
   "mimetype": "text/x-python",
   "name": "python",
   "nbconvert_exporter": "python",
   "pygments_lexer": "ipython3",
   "version": "3.8.8"
  }
 },
 "nbformat": 4,
 "nbformat_minor": 5
}
