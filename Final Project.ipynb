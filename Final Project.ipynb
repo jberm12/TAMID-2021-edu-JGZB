{
 "cells": [
  {
   "cell_type": "code",
   "execution_count": 1,
   "id": "fa9d7451",
   "metadata": {},
   "outputs": [],
   "source": [
    "import pandas as pd\n",
    "import json\n",
    "import csv\n",
    "import numpy as np\n",
    "import matplotlib.pyplot as plt\n",
    "import seaborn as sns"
   ]
  },
  {
   "cell_type": "code",
   "execution_count": 2,
   "id": "9b94e742",
   "metadata": {},
   "outputs": [],
   "source": [
    "json_file = open('astros_data.json')\n",
    "data = json.load(json_file)"
   ]
  },
  {
   "cell_type": "code",
   "execution_count": 3,
   "id": "a7f64902",
   "metadata": {},
   "outputs": [],
   "source": [
    "names = data['Houston Astros']\n",
    "data_file = open('/Users/jonahberman/Desktop/TAMID/astros.csv', 'w+')\n",
    "csv_writer = csv.writer(data_file)\n",
    "csv_writer.writerow(names[0].keys())\n",
    "for name in names:\n",
    "    csv_writer.writerow(name.values())\n",
    "data_file.close()"
   ]
  },
  {
   "cell_type": "code",
   "execution_count": 4,
   "id": "57e4030a",
   "metadata": {},
   "outputs": [],
   "source": [
    "astros = pd.read_csv(\"/Users/jonahberman/Desktop/TAMID/astros.csv\")\n",
    "astros[\"Win%\"] = astros.Wins / (astros.Wins + astros.Losses)\n",
    "astros[\"HR/G\"] = astros.Homeruns/(astros.Wins + astros.Losses)\n",
    "astros[\"H/SO\"] = astros.Hits/astros.Strikeouts"
   ]
  },
  {
   "cell_type": "code",
   "execution_count": 5,
   "id": "1b7f382c",
   "metadata": {},
   "outputs": [
    {
     "data": {
      "text/html": [
       "<div>\n",
       "<style scoped>\n",
       "    .dataframe tbody tr th:only-of-type {\n",
       "        vertical-align: middle;\n",
       "    }\n",
       "\n",
       "    .dataframe tbody tr th {\n",
       "        vertical-align: top;\n",
       "    }\n",
       "\n",
       "    .dataframe thead th {\n",
       "        text-align: right;\n",
       "    }\n",
       "</style>\n",
       "<table border=\"1\" class=\"dataframe\">\n",
       "  <thead>\n",
       "    <tr style=\"text-align: right;\">\n",
       "      <th></th>\n",
       "      <th>Batting Avg</th>\n",
       "      <th>Wins</th>\n",
       "    </tr>\n",
       "  </thead>\n",
       "  <tbody>\n",
       "    <tr>\n",
       "      <th>Batting Avg</th>\n",
       "      <td>1.00000</td>\n",
       "      <td>0.59211</td>\n",
       "    </tr>\n",
       "    <tr>\n",
       "      <th>Wins</th>\n",
       "      <td>0.59211</td>\n",
       "      <td>1.00000</td>\n",
       "    </tr>\n",
       "  </tbody>\n",
       "</table>\n",
       "</div>"
      ],
      "text/plain": [
       "             Batting Avg     Wins\n",
       "Batting Avg      1.00000  0.59211\n",
       "Wins             0.59211  1.00000"
      ]
     },
     "execution_count": 5,
     "metadata": {},
     "output_type": "execute_result"
    }
   ],
   "source": [
    "corr = astros[['Batting Avg', 'Wins']]\n",
    "corr.corr()"
   ]
  },
  {
   "cell_type": "code",
   "execution_count": 6,
   "id": "31e55876",
   "metadata": {},
   "outputs": [
    {
     "data": {
      "text/html": [
       "<div>\n",
       "<style scoped>\n",
       "    .dataframe tbody tr th:only-of-type {\n",
       "        vertical-align: middle;\n",
       "    }\n",
       "\n",
       "    .dataframe tbody tr th {\n",
       "        vertical-align: top;\n",
       "    }\n",
       "\n",
       "    .dataframe thead th {\n",
       "        text-align: right;\n",
       "    }\n",
       "</style>\n",
       "<table border=\"1\" class=\"dataframe\">\n",
       "  <thead>\n",
       "    <tr style=\"text-align: right;\">\n",
       "      <th></th>\n",
       "      <th>HR/G</th>\n",
       "      <th>Win%</th>\n",
       "    </tr>\n",
       "  </thead>\n",
       "  <tbody>\n",
       "    <tr>\n",
       "      <th>HR/G</th>\n",
       "      <td>1.000000</td>\n",
       "      <td>0.519828</td>\n",
       "    </tr>\n",
       "    <tr>\n",
       "      <th>Win%</th>\n",
       "      <td>0.519828</td>\n",
       "      <td>1.000000</td>\n",
       "    </tr>\n",
       "  </tbody>\n",
       "</table>\n",
       "</div>"
      ],
      "text/plain": [
       "          HR/G      Win%\n",
       "HR/G  1.000000  0.519828\n",
       "Win%  0.519828  1.000000"
      ]
     },
     "execution_count": 6,
     "metadata": {},
     "output_type": "execute_result"
    }
   ],
   "source": [
    "corr2 = astros[['HR/G', 'Win%']]\n",
    "corr2.corr()"
   ]
  },
  {
   "cell_type": "code",
   "execution_count": 7,
   "id": "cbc8f9af",
   "metadata": {},
   "outputs": [
    {
     "data": {
      "text/plain": [
       "[Text(0.5, 1.0, 'Win% vs. Batting Avg')]"
      ]
     },
     "execution_count": 7,
     "metadata": {},
     "output_type": "execute_result"
    },
    {
     "data": {
      "image/png": "[encoded data removed]",
      "text/plain": [
       "<Figure size 432x288 with 1 Axes>"
      ]
     },
     "metadata": {
      "needs_background": "light"
     },
     "output_type": "display_data"
    }
   ],
   "source": [
    "sns.regplot(x=astros[\"Batting Avg\"], y=astros[\"Win%\"]).set(title=\"Win% vs. Batting Avg\")"
   ]
  },
  {
   "cell_type": "code",
   "execution_count": 8,
   "id": "9d8f0b72",
   "metadata": {},
   "outputs": [
    {
     "data": {
      "text/plain": [
       "[Text(0.5, 1.0, 'Win% vs. Homeruns per Game')]"
      ]
     },
     "execution_count": 8,
     "metadata": {},
     "output_type": "execute_result"
    },
    {
     "data": {
      "image/png": "[encoded data removed]",
      "text/plain": [
       "<Figure size 432x288 with 1 Axes>"
      ]
     },
     "metadata": {
      "needs_background": "light"
     },
     "output_type": "display_data"
    }
   ],
   "source": [
    "sns.regplot(x=astros[\"HR/G\"], y=astros[\"Win%\"]).set(title=\"Win% vs. Homeruns per Game\")"
   ]
  },
  {
   "cell_type": "code",
   "execution_count": null,
   "id": "c55ff3c5",
   "metadata": {},
   "outputs": [],
   "source": [
    "# We were supplied with regualr season data from the Houson Astros from 1992-2021.\n",
    "# We wanted to look at how hits and hoemruns correlated to the number of wins. \n",
    "# As you can see, both the teams batting average and homerun per game rate highly correalted with winning percentage.\n",
    "# Although correalted, these are not the best statistics to determine win%.\n",
    "# For example, we only focused on batting and didn't look at win percentage from the defensive side.\n",
    "# Also, if we had more data about walks, and extra-base hits, we can draw a more accurate conclusion about \n",
    "# a teams batting effifiency. Overall, however, getting hits and more specifically homeruns, will \n",
    "# increase any team's chances of winning. "
   ]
  }
 ],
 "metadata": {
  "kernelspec": {
   "display_name": "Python 3",
   "language": "python",
   "name": "python3"
  },
  "language_info": {
   "codemirror_mode": {
    "name": "ipython",
    "version": 3
   },
   "file_extension": ".py",
   "mimetype": "text/x-python",
   "name": "python",
   "nbconvert_exporter": "python",
   "pygments_lexer": "ipython3",
   "version": "3.8.8"
  }
 },
 "nbformat": 4,
 "nbformat_minor": 5
}
